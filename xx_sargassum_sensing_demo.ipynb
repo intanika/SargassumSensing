{
 "cells": [
  {
   "cell_type": "markdown",
   "metadata": {},
   "source": [
    "<b>Sargassum Sensing (demo)</b>  \n",
    "Towards an application for detecting and forecasting Sargassum in open sea\n",
    "\n",
    "* Supervised DTC and MLC were used apart from density slicing of GNDVI\n",
    "* Full scene classification requires a lot of RAM. Tiling or cropping the scene prior classification is recommended. \n",
    "* Sentinel-hub Playground used for previewing images\n",
    "* HYCOM + NCODA Global 1/12° Analysis (3 hourly) ([reference](https://www.hycom.org/dataserver/gofs-3pt1/analysis)) used for sea surface current model\n",
    "* OceanParcels tool used for particle tracking [reference](https://oceanparcels.org/)\n",
    "* Download HYCOM data used in this demo : [Google Drive download](https://drive.google.com/uc?export=download&confirm=aLlF&id=1vCtr2pYqa6Ih2ChaiZ4t6IS5qXyYdCiK)   \n",
    "    * Demo netCDF data is a global coverage with time component: <b>2020-04-02T15:00 to 2020-04-03T00:00</b> (4 layers)\n",
    "    * OceanParcels tool gives an out-of-bound error when the HYCOM data is derived from a spatial subset/ cropped data. Therefore, only global coverage data was used for this demo.\n",
    "    * Download your own data thorugh this: [link](https://ncss.hycom.org/thredds/ncss/grid/GLBy0.08/expt_93.0/uv3z/dataset.html)\n",
    "        * Select water_u and water_v variables\n",
    "        * Choose a Time Subset\n",
    "        * Choose Vertical Level = 0 (sea current at surface)\n",
    "        * Select Add Lat/Lon variables\n",
    "        * Output format = netcdf4 \n",
    "\n",
    "         \n",
    "        \n",
    "    "
   ]
  },
  {
   "cell_type": "code",
   "execution_count": null,
   "metadata": {},
   "outputs": [],
   "source": [
    "import os \n",
    "import re\n",
    "import getpass\n",
    "import numpy as np\n",
    "import pandas as pd\n",
    "from glob import glob\n",
    "import rasterio as rio\n",
    "from joblib import load\n",
    "import geopandas as gpd\n",
    "from zipfile import ZipFile\n",
    "import matplotlib.pyplot as plt\n",
    "from tqdm import tqdm,tqdm_notebook\n",
    "from sentinelsat import SentinelAPI\n",
    "from shapely.geometry import LineString\n",
    "from parcels import FieldSet, Field,ParticleSet, Variable, JITParticle, AdvectionRK4, plotTrajectoriesFile, ErrorCode\n",
    "from datetime import timedelta\n",
    "import xarray as xr\n",
    "\n",
    "#custom functions\n",
    "from Python.misc import retrieve_product,semi_sv_pred,get_band_paths,dbscan_cluster\n",
    "from Python.prep_raster import stack_bands,polygonize,get_tiles\n",
    "\n",
    "#specify I/O dir\n",
    "os.makedirs(os.path.join(os.path.abspath('..'),'demo'),exist_ok=True)\n",
    "data_dir = os.path.join(os.path.abspath('..'),'demo')"
   ]
  },
  {
   "cell_type": "markdown",
   "metadata": {},
   "source": [
    "<b>Preview Sentinel-2 image(s) via Sentinel Hub Playground</b>  \n",
    "* Example for a scene taken on 4 April 2020"
   ]
  },
  {
   "cell_type": "code",
   "execution_count": null,
   "metadata": {
    "scrolled": false
   },
   "outputs": [],
   "source": [
    "import IPython\n",
    "from IPython.core.display import display, HTML\n",
    "\n",
    "#specifiy url and view in notebook cell\n",
    "url = 'https://apps.sentinel-hub.com/sentinel-playground/?source=S2L2A&lat=12.176447977999016&lng=-68.12845230102539&zoom=12&preset=5_MOISTURE_INDEX&layers=B01,B02,B03&maxcc=100&gain=1.0&gamma=1.0&time=2019-10-01%7C2020-04-06&atmFilter=&showDates=true'\n",
    "display(HTML(\"<style>.container { width:90% !important; }</style>\"))\n",
    "IPython.display.IFrame(url,width='100%',height='600')"
   ]
  },
  {
   "cell_type": "markdown",
   "metadata": {},
   "source": [
    "<b>Download Sentinel-2 image(s)</b>  "
   ]
  },
  {
   "cell_type": "code",
   "execution_count": null,
   "metadata": {},
   "outputs": [],
   "source": [
    "#user authentication (Copernicus account)\n",
    "username = getpass.getpass(\"Username:\")\n",
    "pswd = getpass.getpass(\"Password:\")\n",
    "api_auth = SentinelAPI(username,pswd,'https://scihub.copernicus.eu/dhus')"
   ]
  },
  {
   "cell_type": "code",
   "execution_count": null,
   "metadata": {},
   "outputs": [],
   "source": [
    "# specify tile(s) and date(s) (T19PEP covers Bonaire and T19PFP covers eastern sea)\n",
    "date_tiles = { \"T19PFP\":[20200402]}\n",
    "\n",
    "#download product(s) \n",
    "df_products = retrieve_product(date_tiles,api_auth)\n",
    "api_auth.download_all(products=df_products.index,directory_path=data_dir)\n",
    "\n",
    "#extract all zips to SAFE files\n",
    "zip_file = glob(data_dir+'*/S2*_MSIL*.zip')[0]\n",
    "with ZipFile(zip_file) as zip_obj:\n",
    "    zip_obj.extractall(data_dir)"
   ]
  },
  {
   "cell_type": "markdown",
   "metadata": {},
   "source": [
    "<b>Preprocess Sentinel-2 image(s)</b>  "
   ]
  },
  {
   "cell_type": "code",
   "execution_count": null,
   "metadata": {
    "scrolled": true
   },
   "outputs": [],
   "source": [
    "#safe file\n",
    "safe_file = glob(data_dir+\"/*.SAFE\")[0]\n",
    "\n",
    "#get image paths (12 multiband .jp2 images)\n",
    "date = re.findall(r\"(\\d{8})T\", safe_file)[0]\n",
    "tile_id =  re.findall(r\"(T\\d{2}[A-Z]{3})\", safe_file)[0]\n",
    "img_paths = get_band_paths(safe_file)\n",
    "\n",
    "#stack bands (computationaly intensive)\n",
    "outfile = os.path.join(data_dir,f'stack_{tile_id}_{date}.tif')\n",
    "stack_bands(img_paths,img_paths[1],outfile)"
   ]
  },
  {
   "cell_type": "markdown",
   "metadata": {},
   "source": [
    "<b> Classification </b>\n",
    "* `semi_sv_pred()` returns a numpy.ndarray which represents the concensus (effective areal overlap) between the DTC, MLD and GNDVI (density slicing) classifications\n",
    "     *  Default parameters: `mlc_thr=7.79,gndvi_thr=0.05,b02_thr=0.15,sieve_size=10`:\n",
    "         * `mlc_thr` is based on the chi-square probability (n=4) (lower number = stricter classification)\n",
    "         * `gndvi_thr` is based on the GNDVI image histogram (larger number= stricter classification)\n",
    "             * Similar like NDVI with possible values between -1 and 1\n",
    "         * `b02_thr` is based on Sentinel-2 blue band B02 (larger number = stricter cloud mask classification)\n",
    "         * `sieve_size` refers to the minimum sieve filter size (reduce speckles in the classification)"
   ]
  },
  {
   "cell_type": "code",
   "execution_count": null,
   "metadata": {},
   "outputs": [],
   "source": [
    "#load models\n",
    "dtc = load(r\".\\data\\models\\dtc_model_sargassum.joblib\")\n",
    "mlc = load(r\".\\data\\models\\mlc_model_sargassum.joblib\")\n",
    "\n",
    "#get stack file\n",
    "stack_file = glob(data_dir+\"/stack*.tif\")[0]                           \n",
    "date_tile_id = re.findall(r\"(T\\d{2}[A-Z]{3}_\\d{8})\", stack_file)[0]\n",
    "\n",
    "#collect geodata\n",
    "geodata = [] \n",
    "\n",
    "#open stack file \n",
    "with rio.open(stack_file) as src:\n",
    "    meta = src.meta.copy()\n",
    "\n",
    "    #compute tiles (available nr of tiles: 4,9,16,25,36)\n",
    "    tiles = get_tiles(src,16)\n",
    "    for i in tqdm(range(len(tiles)),position=0, leave=True):\n",
    "        tile_window, tile_affine = tiles[i]\n",
    "        tile_arr = src.read(window=tile_window)\n",
    "\n",
    "        #predict each tile and convert valid classifications into points\n",
    "        semi_pred = semi_sv_pred(tile_arr,mlc,dtc)\n",
    "        if semi_pred is not None:\n",
    "            gdf = polygonize(semi_pred,1,tile_affine,src.crs,out_file=None,centroid=True)\n",
    "            geodata.append(gdf)\n",
    "\n",
    "#export geodata \n",
    "geodata = pd.concat(geodata,ignore_index=True)\n",
    "atoll_mask = gpd.read_file(r'./data/demo/demo_atoll_mask.geojson')                              #mask a few islands in the eastern sea\n",
    "geodata = gpd.overlay(geodata, atoll_mask, how='difference')\n",
    "geodata.to_file(os.path.join(data_dir,f'sargassum_{date_tile_id}.geojson'),driver='GeoJSON')\n"
   ]
  },
  {
   "cell_type": "markdown",
   "metadata": {},
   "source": [
    "<b> Particle tracking </b>\n",
    "* Spatial clustering to label groups of Sargassum points (DBSCAN) [reference](https://geoffboeing.com/2014/08/clustering-to-reduce-spatial-data-set-size/)"
   ]
  },
  {
   "cell_type": "code",
   "execution_count": null,
   "metadata": {},
   "outputs": [],
   "source": [
    "#load geodata\n",
    "geodata = gpd.read_file(r'./data/demo/demo_sargassum_20200402.geojson')\n",
    "bonaire = gpd.read_file(r'./data/demo/demo_curacao_bonaire.geojson')\n",
    "\n",
    "#spatial cluster distance = 15km\n",
    "geodata['label'] = dbscan_cluster(geodata.geometry,15).astype(str)\n",
    "\n",
    "#plot Sargassum clusters on a map\n",
    "plt.rcParams['axes.facecolor'] = '97e5ef'\n",
    "plt.rcParams[\"figure.figsize\"] = (10,10)\n",
    "base = bonaire.plot(color='#323232')\n",
    "geodata.plot(ax=base,column='label',markersize=20,legend=True,cmap='viridis')\n",
    "base.text(bonaire.centroid[0].x-10000,bonaire.centroid[0].y-15000, 'Bonaire')\n",
    "plt.xlabel('Easting'),plt.ylabel('Northing'),plt.title('Sargassum clusters 4 April 2020')\n",
    "plt.show()"
   ]
  },
  {
   "cell_type": "markdown",
   "metadata": {},
   "source": [
    "* Perform 5-days simulation (with time extrapolation) "
   ]
  },
  {
   "cell_type": "code",
   "execution_count": null,
   "metadata": {},
   "outputs": [],
   "source": [
    "#get lat lon from geodata\n",
    "geodata = gpd.read_file(r'./data/demo/demo_sargassum_20200402.geojson')\n",
    "lons = geodata.to_crs(4326).geometry.x\n",
    "lats = geodata.to_crs(4326).geometry.y\n",
    "\n",
    "#define fieldset variables from HYCOM data\n",
    "hycom_file = glob(data_dir+\"/*.nc4\")[0]                #the one downlaoded from Google Drive\n",
    "variables = {'U': 'water_u','V': 'water_v'}\n",
    "dimensions = {'lon': 'lon','lat': 'lat','time': 'time'}\n",
    "\n",
    "#construct fieldset\n",
    "fieldset = FieldSet.from_netcdf(hycom_file, variables, dimensions,allow_time_extrapolation=True)\n",
    "\n",
    "#release particles\n",
    "pset = ParticleSet.from_list(fieldset=fieldset,pclass=JITParticle,lon=lons,lat=lats) \n",
    "\n",
    "#run advection and save trajectory to file\n",
    "output_fname = r'./data/demo/demo_simulation_20200402.nc'\n",
    "output_file = pset.ParticleFile(name=output_fname, outputdt=timedelta(hours=3))\n",
    "pset.execute(AdvectionRK4,runtime=timedelta(days=5),dt=timedelta(minutes=5),output_file=output_file)\n",
    "output_file.export()"
   ]
  },
  {
   "cell_type": "markdown",
   "metadata": {},
   "source": [
    "* Plot trajectory of Sargassum"
   ]
  },
  {
   "cell_type": "code",
   "execution_count": null,
   "metadata": {},
   "outputs": [],
   "source": [
    "#open the simulated data\n",
    "simulated = xr.open_dataset(r'./data/demo/demo_simulation_20200402.nc')\n",
    "\n",
    "#load geodata\n",
    "geodata = gpd.read_file(r'./data/demo/demo_sargassum_20200402.geojson')\n",
    "bonaire = gpd.read_file(r'./data/demo/demo_curacao_bonaire.geojson')\n",
    "\n",
    "#get simulated points\n",
    "data = []\n",
    "for i in range(len(simulated.time.values)):\n",
    "    p_id = f'P{i+1}'\n",
    "    df = pd.DataFrame([pd.Series(simulated.lon.values[i]),pd.Series(simulated.lat.values[i])]).T\n",
    "    df.columns,df['id'],df['time'] = (['lon','lat'],p_id,simulated.time.values[0])\n",
    "    data.append(df)\n",
    "    \n",
    "#convert to geodataframe\n",
    "data =pd.concat(data)\n",
    "geo_points_traj = gpd.GeoDataFrame(data,geometry=gpd.points_from_xy(x=data.lon, y=data.lat),crs=4326).to_crs(geodata.crs)\n",
    "geo_points_traj['day'] = geo_points_traj['time'].dt.strftime('%m-%d')\n",
    "\n",
    "#get initial points\n",
    "initial_points = geo_points_traj[geo_points_traj['time']==geo_points_traj['time'].min()]\n",
    "\n",
    "#plot Sargassum trajectory on a map\n",
    "plt.rcParams['axes.facecolor'] = '97e5ef'\n",
    "plt.rcParams[\"figure.figsize\"] = (10,10)\n",
    "base = bonaire.plot(color='#323232')\n",
    "geo_points_traj.plot(ax=base,markersize=5,column='day',legend=True,cmap='viridis')\n",
    "initial_points.plot(ax=base,color='red',zorder=1,markersize=5)\n",
    "plt.xlabel('Easting'),plt.ylabel('Northing'),plt.title('Sargassum trajectory 4 to 7 April 2020')\n",
    "plt.show()"
   ]
  },
  {
   "cell_type": "code",
   "execution_count": null,
   "metadata": {
    "scrolled": true
   },
   "outputs": [],
   "source": []
  },
  {
   "cell_type": "code",
   "execution_count": null,
   "metadata": {},
   "outputs": [],
   "source": []
  }
 ],
 "metadata": {
  "kernelspec": {
   "display_name": "Python 3",
   "language": "python",
   "name": "python3"
  },
  "language_info": {
   "codemirror_mode": {
    "name": "ipython",
    "version": 3
   },
   "file_extension": ".py",
   "mimetype": "text/x-python",
   "name": "python",
   "nbconvert_exporter": "python",
   "pygments_lexer": "ipython3",
   "version": "3.6.10"
  }
 },
 "nbformat": 4,
 "nbformat_minor": 2
}
