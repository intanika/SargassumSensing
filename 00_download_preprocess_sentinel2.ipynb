{
 "cells": [
  {
   "cell_type": "markdown",
   "metadata": {},
   "source": [
    "<b>Download and preprocess Sentinel-2 images</b>  \n",
    "Notebook for downloading and preprocessing Sentinel-2 images from Copernicus Open Access Hub (requires account)\n",
    "\n",
    "* Level-2A products are globally available from December 2018 onwards  \n",
    "* Older images (Level-1C) in the archive are processed using a standalone Sen2Cor tool  \n",
    "(http://step.esa.int/main/third-party-plugins-2/sen2cor/sen2cor_v2-8/)\n",
    "* Sen2Cor-02.08.00-win64 directory path should be added to System Variables\n",
    "* Images are downloaded over two different tile IDs: T19PEP (covers Bonaires) T19PFP (covers east sea of Bonaire)\n",
    "* Some products are not readily available and are stored in a Long Term Archive (LTA). Running <code>download_all()</code> will trigger retrieval from LTA and make the data available within 24 hours. Unfortunately, offline products can only be requested every 30 minutes. These products were downloaded manually via Copernicus Hub.\n",
    "* Sentinel products are always stored outside project directory (GitHub repository)\n"
   ]
  },
  {
   "cell_type": "code",
   "execution_count": null,
   "metadata": {},
   "outputs": [],
   "source": [
    "from sentinelsat import *\n",
    "from collections import OrderedDict\n",
    "from datetime import datetime,timedelta, date\n",
    "import pandas as pd\n",
    "import getpass\n",
    "import os \n",
    "import re\n",
    "from glob import glob\n",
    "import subprocess"
   ]
  },
  {
   "cell_type": "markdown",
   "metadata": {},
   "source": [
    "<b>Downloading Sentinel-2 images</b> "
   ]
  },
  {
   "cell_type": "code",
   "execution_count": null,
   "metadata": {},
   "outputs": [],
   "source": [
    "#user authentication (Copernicus account)\n",
    "username = getpass.getpass(\"Username:\")\n",
    "pswd = getpass.getpass(\"Password:\")\n",
    "api = SentinelAPI(username,pswd,'https://scihub.copernicus.eu/dhus')"
   ]
  },
  {
   "cell_type": "code",
   "execution_count": null,
   "metadata": {},
   "outputs": [],
   "source": [
    "#dictionary with selected dates per tile\n",
    "dates_tiles = {\"T19PEP\":[20180304,20180309,20180314,20180319,20190108,\n",
    "                         20190128,20190212,20190304, 20190309, 20190314, \n",
    "                         20190319, 20190508, 20190513, 20190518, 20190523,\n",
    "                         20190821, 20191129],\n",
    "               \"T19PFP\":[20180304,20190304,20190428]}\n"
   ]
  },
  {
   "cell_type": "code",
   "execution_count": null,
   "metadata": {},
   "outputs": [],
   "source": [
    "#retrieving product informations\n",
    "\n",
    "products = OrderedDict()\n",
    "\n",
    "for tile in list(dates_tiles.keys()):\n",
    "    \n",
    "    for d in dates_tiles[tile]:\n",
    "        date = datetime.strptime(str(d),'%Y%m%d').date()\n",
    "        \n",
    "        #contrsuct query\n",
    "        kw_query = {'platformname': 'Sentinel-2',\n",
    "                    'filename':f'*_{tile}_*',\n",
    "                    'date':(date, date+timedelta(days=5))} #plus 5 days to get single scene\n",
    "        \n",
    "        #get level-2 products if date> December 2018 \n",
    "        if date>datetime.strptime(str(20181201),'%Y%m%d').date():\n",
    "            kw_query['producttype']= 'S2MSI2A'\n",
    "        else:\n",
    "            kw_query['producttype']= 'S2MSI1C'\n",
    "        \n",
    "        #retrieve ID used to download the data and store to OrderedDict()      \n",
    "        pp = api.query(**kw_query)\n",
    "        products.update(pp)\n",
    "\n",
    "#convert to dataframe to view product information (cloud coverage, sensing date, etc.)\n",
    "df_products = api.to_dataframe(products)\n"
   ]
  },
  {
   "cell_type": "code",
   "execution_count": null,
   "metadata": {},
   "outputs": [],
   "source": [
    "#store product IDs according to product type\n",
    "level2_online = []\n",
    "level1_online = []\n",
    "\n",
    "#check online products\n",
    "for product_id in df_products.index:\n",
    "    odata = api.get_product_odata(product_id)\n",
    "    print(f\"{odata['title']} is available: {odata['Online']} \")\n",
    "    \n",
    "    #sort products\n",
    "    if odata['Online'] and \"MSIL2A\" in odata['title']:\n",
    "        level2_online.append(product_id)\n",
    "    elif odata['Online'] and \"MSIL1C\" in odata['title']:\n",
    "        level1_online.append(product_id)"
   ]
  },
  {
   "cell_type": "code",
   "execution_count": null,
   "metadata": {
    "scrolled": true
   },
   "outputs": [],
   "source": [
    "#create output folders for each product type\n",
    "level2_dir = '...'\n",
    "level1_dir = '...'\n",
    "os.makedirs(level2_dir,exist_ok=True)\n",
    "os.makedirs(level1_dir,exist_ok=True)\n",
    "\n",
    "#download products to each folder\n",
    "if os.path.exists(level1_dir) and os.path.exists(level2_dir):\n",
    "    api.download_all(products=level1_online,directory_path=level1_dir)\n",
    "    api.download_all(products=level2_online,directory_path=level2_dir)"
   ]
  },
  {
   "cell_type": "markdown",
   "metadata": {},
   "source": [
    "<b>Processing level-1C to level-2A  products</b> "
   ]
  },
  {
   "cell_type": "code",
   "execution_count": null,
   "metadata": {},
   "outputs": [],
   "source": [
    "#set I/O directories\n",
    "level2_dir = '...'\n",
    "level1_dir = '...'\n",
    "\n",
    "#get level-1C file paths\n",
    "level1_files = glob(level1_dir+\"/*.SAFE\")\n",
    "\n",
    "#pop-up cmd window(s) and execute Sen2Cor processor\n",
    "sen2cor_dir = \"../projects/Sen2Cor-02.08.00-win64\"\n",
    "for file in level1_files:\n",
    "    cmd = f'L2A_Process --resolution 10 {file} --output_dir {level2_dir}'\n",
    "    os.system(f' start cmd /k \"cd {sen2cor_dir} && {cmd}\" ')\n"
   ]
  }
 ],
 "metadata": {
  "kernelspec": {
   "display_name": "Python 3",
   "language": "python",
   "name": "python3"
  },
  "language_info": {
   "codemirror_mode": {
    "name": "ipython",
    "version": 3
   },
   "file_extension": ".py",
   "mimetype": "text/x-python",
   "name": "python",
   "nbconvert_exporter": "python",
   "pygments_lexer": "ipython3",
   "version": "3.6.10"
  }
 },
 "nbformat": 4,
 "nbformat_minor": 2
}
